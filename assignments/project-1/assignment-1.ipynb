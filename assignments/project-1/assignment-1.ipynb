{
 "cells": [
  {
   "cell_type": "markdown",
   "metadata": {},
   "source": [
    "###### ### The University of Melbourne, School of Computing and Information Systems\n",
    "# COMP30027 Machine Learning, 2021 Semester 1\n",
    "\n",
    "## Assignment 1: Pose classification with naive Bayes\n",
    "\n",
    "###### Submission deadline: 7 pm, Tuesday 6 Apr 2021"
   ]
  },
  {
   "cell_type": "markdown",
   "metadata": {},
   "source": [
    "**Student ID(s):**     1080613\n"
   ]
  },
  {
   "cell_type": "markdown",
   "metadata": {},
   "source": [
    "This iPython notebook is a template which you will use for your Assignment 1 submission.\n",
    "\n",
    "Marking will be applied on the four functions that are defined in this notebook, and to your responses to the questions at the end of this notebook (Submitted in a separate PDF file).\n",
    "\n",
    "**NOTE: YOU SHOULD ADD YOUR RESULTS, DIAGRAMS AND IMAGES FROM YOUR OBSERVATIONS IN THIS FILE TO YOUR REPORT (the PDF file).**\n",
    "\n",
    "You may change the prototypes of these functions, and you may write other functions, according to your requirements. We would appreciate it if the required functions were prominent/easy to find.\n",
    "\n",
    "**Adding proper comments to your code is MANDATORY. **"
   ]
  },
  {
   "cell_type": "code",
   "execution_count": 49,
   "metadata": {},
   "outputs": [],
   "source": [
    "import pandas as pd\n",
    "\n",
    "# The body parts corresponding to each of the 11 numbered coordinates.\n",
    "body_labels = {1: 'head', 2: 'chest', 3: 'r_elbow', \n",
    "               4: 'r_hand', 5: 'l_elbow', 6: 'l_hand',\n",
    "               7: 'hips', 8: 'r_knee', 9: 'r_foot',\n",
    "               10: 'l_knee', 11: 'l_foot'}"
   ]
  },
  {
   "cell_type": "code",
   "execution_count": 68,
   "metadata": {
    "collapsed": true
   },
   "outputs": [],
   "source": [
    "# This function should prepare the data by reading it from a file and converting it into a useful format for training and testing\n",
    "\n",
    "def preprocess(train_file_path, test_file_path):\n",
    "\n",
    "    dataframes = []\n",
    "    # This funky list comprehension zips together the corresponding coordinates (1, 12), (2, 13),..., \n",
    "    # then unpacks the tuples returned from the zip into one list. nice\n",
    "    col_order = [j for i in zip(range(1, 12), range(12, 23)) for j in i]\n",
    "    \n",
    "    for file_path in train_file_path, test_file_path:\n",
    "        # Load the data from the CSV files using the first column as an index. Consider 9999 to be an NA value.\n",
    "        data = pd.read_csv(file_path, header=None, index_col=0, na_values=9999)\n",
    "\n",
    "        # Drop rows that contain only (all) NA values, for some reason there are 15 of these in the training set.\n",
    "        data.dropna(how='all', inplace=True)\n",
    "\n",
    "        # Rearrange the columns so that corresponding X and Y coordinates are adjacent.\n",
    "        data = data[col_order]\n",
    "\n",
    "        # Create a MultiIndex to easily identify our coordinates and body parts\n",
    "        index = pd.MultiIndex.from_product((body_labels.values(), ('x', 'y')), names=['Body Part', 'Coordinate'])\n",
    "        data.columns = index\n",
    "\n",
    "        dataframes.append(data)\n",
    "\n",
    "    return dataframes"
   ]
  },
  {
   "cell_type": "code",
   "execution_count": 51,
   "metadata": {
    "collapsed": true
   },
   "outputs": [],
   "source": [
    "# This function should calculate prior probabilities and likelihoods from the training data and use\n",
    "# them to build a naive Bayes model\n",
    "\n",
    "def train():\n",
    "    return"
   ]
  },
  {
   "cell_type": "code",
   "execution_count": 52,
   "metadata": {
    "collapsed": true
   },
   "outputs": [],
   "source": [
    "# This function should predict classes for new items in a test dataset (for the purposes of this assignment, you\n",
    "# can re-use the training data as a test set)\n",
    "\n",
    "def predict():\n",
    "    return"
   ]
  },
  {
   "cell_type": "code",
   "execution_count": 53,
   "metadata": {
    "collapsed": true
   },
   "outputs": [],
   "source": [
    "# This function should evaliate the prediction performance by comparing your model’s class outputs to ground\n",
    "# truth labels\n",
    "\n",
    "def evaluate():\n",
    "    return"
   ]
  },
  {
   "source": [
    "## Entrypoint"
   ],
   "cell_type": "markdown",
   "metadata": {}
  },
  {
   "cell_type": "code",
   "execution_count": 69,
   "metadata": {},
   "outputs": [
    {
     "output_type": "execute_result",
     "data": {
      "text/plain": [
       "Body Part       head                 chest            r_elbow             \\\n",
       "Coordinate         x         y           x        y         x          y   \n",
       "0                                                                          \n",
       "bridge       54.8598   32.1051   33.016600  14.5333       NaN        NaN   \n",
       "bridge      -87.4883    9.1664  -38.946700  -5.4110   32.8427   0.091912   \n",
       "bridge     -140.2714   -8.8671 -107.904500 -25.8142       NaN        NaN   \n",
       "bridge      171.6807   25.9029   72.984300   2.1167       NaN        NaN   \n",
       "bridge           NaN       NaN         NaN      NaN       NaN        NaN   \n",
       "...              ...       ...         ...      ...       ...        ...   \n",
       "warrior2     19.1065  103.2426    3.553000  62.4044  -79.5098  67.916200   \n",
       "warrior2    -14.9694  118.2328    0.692970  72.5689  -93.5317  77.386400   \n",
       "warrior2    -25.3208  108.4335   -9.957200  64.9132 -105.8103  69.948300   \n",
       "warrior2     -1.3885  105.7849  -10.619800  66.0730  -86.4193  73.048100   \n",
       "warrior2    -21.7485  114.7762    0.014172  69.5507  -94.5443  77.007500   \n",
       "\n",
       "Body Part     r_hand           l_elbow           ...     hips            \\\n",
       "Coordinate         x        y        x        y  ...        x         y   \n",
       "0                                                ...                      \n",
       "bridge           NaN      NaN   8.9676 -30.5872  ... -63.2506   41.6003   \n",
       "bridge       93.5923  -3.8473      NaN      NaN  ...      NaN       NaN   \n",
       "bridge           NaN      NaN      NaN      NaN  ... -23.9042   28.4441   \n",
       "bridge           NaN      NaN -56.6202 -38.3855  ... -20.1266   38.5907   \n",
       "bridge           NaN      NaN      NaN      NaN  ...   3.6361  145.7761   \n",
       "...              ...      ...      ...      ...  ...      ...       ...   \n",
       "warrior2   -131.4038  77.3104  85.5393  68.9512  ...   2.8382  -37.5930   \n",
       "warrior2   -147.7031  76.4774  96.1209  65.6195  ...  -2.6247  -27.3761   \n",
       "warrior2   -156.4708  73.0468  82.5501  64.9163  ...   4.5419  -34.0301   \n",
       "warrior2   -122.7725  80.2707  69.0921  79.4188  ...  -2.7442  -33.6164   \n",
       "warrior2   -148.1138  83.4404  93.9008  71.6436  ...   3.2385  -30.3973   \n",
       "\n",
       "Body Part     r_knee             r_foot              l_knee           \\\n",
       "Coordinate         x        y         x         y         x        y   \n",
       "0                                                                      \n",
       "bridge           NaN      NaN       NaN       NaN       NaN      NaN   \n",
       "bridge           NaN      NaN       NaN       NaN       NaN      NaN   \n",
       "bridge       65.4627  49.1976   76.3410  -44.1205   56.3595  38.9266   \n",
       "bridge           NaN      NaN       NaN       NaN       NaN      NaN   \n",
       "bridge       32.0321  62.9591    9.9475  -88.3465  -10.4970  39.9841   \n",
       "...              ...      ...       ...       ...       ...      ...   \n",
       "warrior2    -82.6325 -89.8188 -172.6672 -137.5640   96.9495 -52.4577   \n",
       "warrior2   -107.9651 -57.1713 -130.3302 -149.0554   86.1669 -89.6673   \n",
       "warrior2    -92.6621 -46.5170 -116.9862 -139.9371  102.7815 -92.0674   \n",
       "warrior2    -57.3115 -83.3311 -102.3196 -125.3900   88.1293 -78.7584   \n",
       "warrior2    -95.6088 -64.2691 -104.1969 -154.7582   75.6685 -82.5485   \n",
       "\n",
       "Body Part     l_foot            \n",
       "Coordinate         x         y  \n",
       "0                               \n",
       "bridge           NaN       NaN  \n",
       "bridge           NaN       NaN  \n",
       "bridge       73.9170  -37.7665  \n",
       "bridge           NaN       NaN  \n",
       "bridge      -35.1187 -160.3728  \n",
       "...              ...       ...  \n",
       "warrior2    121.8449 -138.6002  \n",
       "warrior2    160.2327 -154.4773  \n",
       "warrior2    180.0503 -139.6989  \n",
       "warrior2    108.1753 -164.6995  \n",
       "warrior2    140.7209 -157.1568  \n",
       "\n",
       "[732 rows x 22 columns]"
      ],
      "text/html": "<div>\n<style scoped>\n    .dataframe tbody tr th:only-of-type {\n        vertical-align: middle;\n    }\n\n    .dataframe tbody tr th {\n        vertical-align: top;\n    }\n\n    .dataframe thead tr th {\n        text-align: left;\n    }\n\n    .dataframe thead tr:last-of-type th {\n        text-align: right;\n    }\n</style>\n<table border=\"1\" class=\"dataframe\">\n  <thead>\n    <tr>\n      <th>Body Part</th>\n      <th colspan=\"2\" halign=\"left\">head</th>\n      <th colspan=\"2\" halign=\"left\">chest</th>\n      <th colspan=\"2\" halign=\"left\">r_elbow</th>\n      <th colspan=\"2\" halign=\"left\">r_hand</th>\n      <th colspan=\"2\" halign=\"left\">l_elbow</th>\n      <th>...</th>\n      <th colspan=\"2\" halign=\"left\">hips</th>\n      <th colspan=\"2\" halign=\"left\">r_knee</th>\n      <th colspan=\"2\" halign=\"left\">r_foot</th>\n      <th colspan=\"2\" halign=\"left\">l_knee</th>\n      <th colspan=\"2\" halign=\"left\">l_foot</th>\n    </tr>\n    <tr>\n      <th>Coordinate</th>\n      <th>x</th>\n      <th>y</th>\n      <th>x</th>\n      <th>y</th>\n      <th>x</th>\n      <th>y</th>\n      <th>x</th>\n      <th>y</th>\n      <th>x</th>\n      <th>y</th>\n      <th>...</th>\n      <th>x</th>\n      <th>y</th>\n      <th>x</th>\n      <th>y</th>\n      <th>x</th>\n      <th>y</th>\n      <th>x</th>\n      <th>y</th>\n      <th>x</th>\n      <th>y</th>\n    </tr>\n    <tr>\n      <th>0</th>\n      <th></th>\n      <th></th>\n      <th></th>\n      <th></th>\n      <th></th>\n      <th></th>\n      <th></th>\n      <th></th>\n      <th></th>\n      <th></th>\n      <th></th>\n      <th></th>\n      <th></th>\n      <th></th>\n      <th></th>\n      <th></th>\n      <th></th>\n      <th></th>\n      <th></th>\n      <th></th>\n      <th></th>\n    </tr>\n  </thead>\n  <tbody>\n    <tr>\n      <th>bridge</th>\n      <td>54.8598</td>\n      <td>32.1051</td>\n      <td>33.016600</td>\n      <td>14.5333</td>\n      <td>NaN</td>\n      <td>NaN</td>\n      <td>NaN</td>\n      <td>NaN</td>\n      <td>8.9676</td>\n      <td>-30.5872</td>\n      <td>...</td>\n      <td>-63.2506</td>\n      <td>41.6003</td>\n      <td>NaN</td>\n      <td>NaN</td>\n      <td>NaN</td>\n      <td>NaN</td>\n      <td>NaN</td>\n      <td>NaN</td>\n      <td>NaN</td>\n      <td>NaN</td>\n    </tr>\n    <tr>\n      <th>bridge</th>\n      <td>-87.4883</td>\n      <td>9.1664</td>\n      <td>-38.946700</td>\n      <td>-5.4110</td>\n      <td>32.8427</td>\n      <td>0.091912</td>\n      <td>93.5923</td>\n      <td>-3.8473</td>\n      <td>NaN</td>\n      <td>NaN</td>\n      <td>...</td>\n      <td>NaN</td>\n      <td>NaN</td>\n      <td>NaN</td>\n      <td>NaN</td>\n      <td>NaN</td>\n      <td>NaN</td>\n      <td>NaN</td>\n      <td>NaN</td>\n      <td>NaN</td>\n      <td>NaN</td>\n    </tr>\n    <tr>\n      <th>bridge</th>\n      <td>-140.2714</td>\n      <td>-8.8671</td>\n      <td>-107.904500</td>\n      <td>-25.8142</td>\n      <td>NaN</td>\n      <td>NaN</td>\n      <td>NaN</td>\n      <td>NaN</td>\n      <td>NaN</td>\n      <td>NaN</td>\n      <td>...</td>\n      <td>-23.9042</td>\n      <td>28.4441</td>\n      <td>65.4627</td>\n      <td>49.1976</td>\n      <td>76.3410</td>\n      <td>-44.1205</td>\n      <td>56.3595</td>\n      <td>38.9266</td>\n      <td>73.9170</td>\n      <td>-37.7665</td>\n    </tr>\n    <tr>\n      <th>bridge</th>\n      <td>171.6807</td>\n      <td>25.9029</td>\n      <td>72.984300</td>\n      <td>2.1167</td>\n      <td>NaN</td>\n      <td>NaN</td>\n      <td>NaN</td>\n      <td>NaN</td>\n      <td>-56.6202</td>\n      <td>-38.3855</td>\n      <td>...</td>\n      <td>-20.1266</td>\n      <td>38.5907</td>\n      <td>NaN</td>\n      <td>NaN</td>\n      <td>NaN</td>\n      <td>NaN</td>\n      <td>NaN</td>\n      <td>NaN</td>\n      <td>NaN</td>\n      <td>NaN</td>\n    </tr>\n    <tr>\n      <th>bridge</th>\n      <td>NaN</td>\n      <td>NaN</td>\n      <td>NaN</td>\n      <td>NaN</td>\n      <td>NaN</td>\n      <td>NaN</td>\n      <td>NaN</td>\n      <td>NaN</td>\n      <td>NaN</td>\n      <td>NaN</td>\n      <td>...</td>\n      <td>3.6361</td>\n      <td>145.7761</td>\n      <td>32.0321</td>\n      <td>62.9591</td>\n      <td>9.9475</td>\n      <td>-88.3465</td>\n      <td>-10.4970</td>\n      <td>39.9841</td>\n      <td>-35.1187</td>\n      <td>-160.3728</td>\n    </tr>\n    <tr>\n      <th>...</th>\n      <td>...</td>\n      <td>...</td>\n      <td>...</td>\n      <td>...</td>\n      <td>...</td>\n      <td>...</td>\n      <td>...</td>\n      <td>...</td>\n      <td>...</td>\n      <td>...</td>\n      <td>...</td>\n      <td>...</td>\n      <td>...</td>\n      <td>...</td>\n      <td>...</td>\n      <td>...</td>\n      <td>...</td>\n      <td>...</td>\n      <td>...</td>\n      <td>...</td>\n      <td>...</td>\n    </tr>\n    <tr>\n      <th>warrior2</th>\n      <td>19.1065</td>\n      <td>103.2426</td>\n      <td>3.553000</td>\n      <td>62.4044</td>\n      <td>-79.5098</td>\n      <td>67.916200</td>\n      <td>-131.4038</td>\n      <td>77.3104</td>\n      <td>85.5393</td>\n      <td>68.9512</td>\n      <td>...</td>\n      <td>2.8382</td>\n      <td>-37.5930</td>\n      <td>-82.6325</td>\n      <td>-89.8188</td>\n      <td>-172.6672</td>\n      <td>-137.5640</td>\n      <td>96.9495</td>\n      <td>-52.4577</td>\n      <td>121.8449</td>\n      <td>-138.6002</td>\n    </tr>\n    <tr>\n      <th>warrior2</th>\n      <td>-14.9694</td>\n      <td>118.2328</td>\n      <td>0.692970</td>\n      <td>72.5689</td>\n      <td>-93.5317</td>\n      <td>77.386400</td>\n      <td>-147.7031</td>\n      <td>76.4774</td>\n      <td>96.1209</td>\n      <td>65.6195</td>\n      <td>...</td>\n      <td>-2.6247</td>\n      <td>-27.3761</td>\n      <td>-107.9651</td>\n      <td>-57.1713</td>\n      <td>-130.3302</td>\n      <td>-149.0554</td>\n      <td>86.1669</td>\n      <td>-89.6673</td>\n      <td>160.2327</td>\n      <td>-154.4773</td>\n    </tr>\n    <tr>\n      <th>warrior2</th>\n      <td>-25.3208</td>\n      <td>108.4335</td>\n      <td>-9.957200</td>\n      <td>64.9132</td>\n      <td>-105.8103</td>\n      <td>69.948300</td>\n      <td>-156.4708</td>\n      <td>73.0468</td>\n      <td>82.5501</td>\n      <td>64.9163</td>\n      <td>...</td>\n      <td>4.5419</td>\n      <td>-34.0301</td>\n      <td>-92.6621</td>\n      <td>-46.5170</td>\n      <td>-116.9862</td>\n      <td>-139.9371</td>\n      <td>102.7815</td>\n      <td>-92.0674</td>\n      <td>180.0503</td>\n      <td>-139.6989</td>\n    </tr>\n    <tr>\n      <th>warrior2</th>\n      <td>-1.3885</td>\n      <td>105.7849</td>\n      <td>-10.619800</td>\n      <td>66.0730</td>\n      <td>-86.4193</td>\n      <td>73.048100</td>\n      <td>-122.7725</td>\n      <td>80.2707</td>\n      <td>69.0921</td>\n      <td>79.4188</td>\n      <td>...</td>\n      <td>-2.7442</td>\n      <td>-33.6164</td>\n      <td>-57.3115</td>\n      <td>-83.3311</td>\n      <td>-102.3196</td>\n      <td>-125.3900</td>\n      <td>88.1293</td>\n      <td>-78.7584</td>\n      <td>108.1753</td>\n      <td>-164.6995</td>\n    </tr>\n    <tr>\n      <th>warrior2</th>\n      <td>-21.7485</td>\n      <td>114.7762</td>\n      <td>0.014172</td>\n      <td>69.5507</td>\n      <td>-94.5443</td>\n      <td>77.007500</td>\n      <td>-148.1138</td>\n      <td>83.4404</td>\n      <td>93.9008</td>\n      <td>71.6436</td>\n      <td>...</td>\n      <td>3.2385</td>\n      <td>-30.3973</td>\n      <td>-95.6088</td>\n      <td>-64.2691</td>\n      <td>-104.1969</td>\n      <td>-154.7582</td>\n      <td>75.6685</td>\n      <td>-82.5485</td>\n      <td>140.7209</td>\n      <td>-157.1568</td>\n    </tr>\n  </tbody>\n</table>\n<p>732 rows × 22 columns</p>\n</div>"
     },
     "metadata": {},
     "execution_count": 69
    }
   ],
   "source": [
    "train_data, test_data = preprocess(\"data/train.csv\", \"data/test.csv\")\n",
    "train_data\n"
   ]
  },
  {
   "source": [
    "## Questions \n",
    "\n",
    "\n",
    "If you are in a group of 1, you will respond to **two** questions of your choosing.\n",
    "\n",
    "If you are in a group of 2, you will respond to **four** questions of your choosing.\n",
    "\n",
    "A response to a question should take about 100–250 words, and make reference to the data wherever possible.\n",
    "\n",
    "#### NOTE: you may develop codes or functions to help respond to the question here, but your formal answer should be submitted separately as a PDF."
   ],
   "cell_type": "markdown",
   "metadata": {}
  },
  {
   "cell_type": "markdown",
   "metadata": {},
   "source": [
    "### Q1\n",
    "Since this is a multiclass classification problem, there are multiple ways to compute precision, recall, and F-score for this classifier. Implement at least two of the methods from the \"Model Evaluation\" lecture and discuss any differences between them. (The implementation should be your own and should not just call a pre-existing function.)"
   ]
  },
  {
   "cell_type": "code",
   "execution_count": null,
   "metadata": {
    "collapsed": true
   },
   "outputs": [],
   "source": []
  },
  {
   "cell_type": "markdown",
   "metadata": {},
   "source": [
    "### Q2\n",
    "The Gaussian naıve Bayes classifier assumes that numeric attributes come from a Gaussian distribution. Is this assumption always true for the numeric attributes in this dataset? Identify some cases where the Gaussian assumption is violated and describe any evidence (or lack thereof) that this has some effect on the classifier’s predictions."
   ]
  },
  {
   "cell_type": "code",
   "execution_count": null,
   "metadata": {
    "collapsed": true
   },
   "outputs": [],
   "source": []
  },
  {
   "cell_type": "markdown",
   "metadata": {},
   "source": [
    "### Q3\n",
    "Implement a kernel density estimate (KDE) naive Bayes classifier and compare its performance to the Gaussian naive Bayes classifier. Recall that KDE has kernel bandwidth as a free parameter -- you can choose an arbitrary value for this, but a value in the range 5-25 is recommended. Discuss any differences you observe between the Gaussian and KDE naive Bayes classifiers. (As with the Gaussian naive Bayes, this KDE naive Bayes implementation should be your own and should not just call a pre-existing function.)"
   ]
  },
  {
   "cell_type": "code",
   "execution_count": null,
   "metadata": {
    "collapsed": true
   },
   "outputs": [],
   "source": []
  },
  {
   "cell_type": "markdown",
   "metadata": {},
   "source": [
    "### Q4\n",
    "Instead of using an arbitrary kernel bandwidth for the KDE naive Bayes classifier, use random hold-out or cross-validation to choose the kernel bandwidth. Discuss how this changes the model performance compared to using an arbitrary kernel bandwidth."
   ]
  },
  {
   "cell_type": "code",
   "execution_count": null,
   "metadata": {
    "collapsed": true
   },
   "outputs": [],
   "source": []
  },
  {
   "cell_type": "markdown",
   "metadata": {},
   "source": [
    "### Q5\n",
    "Naive Bayes ignores missing values, but in pose recognition tasks the missing values can be informative. Missing values indicate that some part of the body was obscured and sometimes this is relevant to the pose (e.g., holding one hand behind the back). Are missing values useful for this task? Implement a method that incorporates information about missing values and demonstrate whether it changes the classification results."
   ]
  },
  {
   "cell_type": "code",
   "execution_count": null,
   "metadata": {
    "collapsed": true
   },
   "outputs": [],
   "source": []
  },
  {
   "cell_type": "markdown",
   "metadata": {},
   "source": [
    "### Q6\n",
    "Engineer your own pose features from the provided keypoints. Instead of using the (x,y) positions of keypoints, you might consider the angles of the limbs or body, or the distances between pairs of keypoints. How does a naive Bayes classifier based on your engineered features compare to the classifier using (x,y) values? Please note that we are interested in explainable features for pose recognition, so simply putting the (x,y) values in a neural network or similar to get an arbitrary embedding will not receive full credit for this question. You should be able to explain the rationale behind your proposed features. Also, don't forget the conditional independence assumption of naive Bayes when proposing new features -- a large set of highly-correlated features may not work well."
   ]
  },
  {
   "cell_type": "code",
   "execution_count": null,
   "metadata": {
    "collapsed": true
   },
   "outputs": [],
   "source": []
  }
 ],
 "metadata": {
  "kernelspec": {
   "display_name": "Python 3",
   "language": "python",
   "name": "python3"
  },
  "language_info": {
   "codemirror_mode": {
    "name": "ipython",
    "version": 3
   },
   "file_extension": ".py",
   "mimetype": "text/x-python",
   "name": "python",
   "nbconvert_exporter": "python",
   "pygments_lexer": "ipython3",
   "version": "3.9.1"
  }
 },
 "nbformat": 4,
 "nbformat_minor": 4
}